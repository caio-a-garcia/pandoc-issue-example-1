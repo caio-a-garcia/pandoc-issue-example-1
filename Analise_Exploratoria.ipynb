{
 "cells": [
  {
   "cell_type": "markdown",
   "id": "a6d9c8aa-462c-4d19-98cb-45e4faa030cb",
   "metadata": {
    "collapsed": false
   },
   "source": [
    "# Insper - Programa Avancado em Data Science e Tomada de Decisao\n",
    "Atividade Integradora - Terceiro Trimestre 24T1"
   ]
  },
  {
   "cell_type": "code",
   "execution_count": 1,
   "id": "32d4d082-ee75-4697-9604-f5e97e6a391d",
   "metadata": {
    "collapsed": false
   },
   "outputs": [],
   "source": [
    "import pandas as pd"
   ]
  },
  {
   "cell_type": "code",
   "execution_count": 2,
   "id": "dc4b8f91-2a41-440f-b760-b02698b8c3ee",
   "metadata": {
    "collapsed": false
   },
   "outputs": [],
   "source": [
    "country = pd.read_csv(\"Base de Dados - PADS/Country.csv\")\n",
    "league = pd.read_csv(\"Base de Dados - PADS/League.csv\")\n",
    "match_df = pd.read_csv(\"Base de Dados - PADS/Match.csv\")\n",
    "player = pd.read_csv(\"Base de Dados - PADS/Player.csv\")\n",
    "player_attributes = pd.read_csv(\"Base de Dados - PADS/Player_Attributes.csv\")\n",
    "team = pd.read_csv(\"Base de Dados - PADS/Team.csv\")\n",
    "team_attributes = pd.read_csv(\"Base de Dados - PADS/Team_Attributes.csv\")\n",
    "sqlite_sequence = pd.read_csv(\"Base de Dados - PADS/sqlite_sequence.csv\")"
   ]
  },
  {
   "cell_type": "code",
   "execution_count": 57,
   "id": "f564745f-d758-48da-a290-3951a7a8a2bd",
   "metadata": {
    "collapsed": false
   },
   "outputs": [],
   "source": [
    "assert ((country.columns == ['id', 'name']).all())\n",
    "\n",
    "assert (len(country) == 11)\n",
    "\n",
    "\n",
    "assert ((league.columns == ['id', 'country_id', 'name']).all())\n",
    "\n",
    "assert (len(league) == 11)\n",
    "\n",
    "\n",
    "assert ((player.columns == ['id',\n",
    "                            'player_api_id',\n",
    "                            'player_name',\n",
    "                            'player_fifa_api_id',\n",
    "                            'birthday',\n",
    "                            'height',\n",
    "                            'weight']).all())\n",
    "\n",
    "assert(len(player) == 11060)\n",
    "\n",
    "\n",
    "assert ((team.columns == ['id',\n",
    "                          'team_api_id',\n",
    "                          'team_fifa_api_id',\n",
    "                          'team_long_name',\n",
    "                          'team_short_name']).all())\n",
    "\n",
    "assert (len(team) == 299)\n",
    "\n",
    "\n",
    "assert ((sqlite_sequence.columns == ['name', 'seq']).all())\n",
    "\n",
    "assert (len(sqlite_sequence) == 7)\n",
    "\n",
    "\n",
    "assert ((all(col in match_df for col in ['id',\n",
    "                                         'country_id',\n",
    "                                         'league_id',\n",
    "                                         'date',\n",
    "                                         'match_api_id',\n",
    "                                         'home_team_api_id',\n",
    "                                         'away_team_api_id'])))\n",
    "\n",
    "assert (len(match_df) == 25979)\n",
    "\n",
    "\n",
    "assert ((all(col in player_attributes for col in ['id',\n",
    "                                                  'player_fifa_api_id',\n",
    "                                                  'player_api_id',\n",
    "                                                  'date'])))\n",
    "\n",
    "assert (len(player_attributes) == 183978)"
   ]
  },
  {
   "cell_type": "code",
   "execution_count": 58,
   "id": "47023eb6-b41a-4ea7-95c2-123028a28680",
   "metadata": {
    "collapsed": false
   },
   "outputs": [],
   "source": [
    "def show_missing(df):\n",
    "    \"\"\"Return a Pandas dataframe describing the contents of a source dataframe including missing values.\"\"\"\n",
    "    \n",
    "    variables = []\n",
    "    dtypes = []\n",
    "    count = []\n",
    "    unique = []\n",
    "    missing = []\n",
    "    pc_missing = []\n",
    "    \n",
    "    for item in df.columns:\n",
    "        variables.append(item)\n",
    "        dtypes.append(df[item].dtype)\n",
    "        count.append(len(df[item]))\n",
    "        unique.append(len(df[item].unique()))\n",
    "        missing.append(df[item].isna().sum())\n",
    "        pc_missing.append(round((df[item].isna().sum() / len(df[item])) * 100, 2))\n",
    "\n",
    "    output = pd.DataFrame({\n",
    "        'variable': variables, \n",
    "        'dtype': dtypes,\n",
    "        'count': count,\n",
    "        'unique': unique,\n",
    "        'missing': missing, \n",
    "        'pc_missing': pc_missing\n",
    "    })    \n",
    "        \n",
    "    return output"
   ]
  },
  {
   "cell_type": "code",
   "execution_count": 61,
   "id": "dc7c6015-466e-42d7-950b-b19fc862e046",
   "metadata": {
    "collapsed": false
   },
   "outputs": [
    {
     "ename": "NameError",
     "evalue": "name 'msno' is not defined",
     "output_type": "error",
     "traceback": [
      "\u001b[0;31m---------------------------------------------------------------------------\u001b[0m",
      "\u001b[0;31mNameError\u001b[0m                                 Traceback (most recent call last)",
      "Cell \u001b[0;32mIn[61], line 18\u001b[0m\n\u001b[1;32m     14\u001b[0m missing_data\u001b[38;5;241m.\u001b[39mdrop(labels\u001b[38;5;241m=\u001b[39mindex_full_data, axis\u001b[38;5;241m=\u001b[39m\u001b[38;5;124m'\u001b[39m\u001b[38;5;124mindex\u001b[39m\u001b[38;5;124m'\u001b[39m, inplace\u001b[38;5;241m=\u001b[39m\u001b[38;5;28;01mTrue\u001b[39;00m)\n\u001b[1;32m     16\u001b[0m missing_val_columns \u001b[38;5;241m=\u001b[39m missing_data[\u001b[38;5;124m'\u001b[39m\u001b[38;5;124mvariable\u001b[39m\u001b[38;5;124m'\u001b[39m][missing_data[\u001b[38;5;124m'\u001b[39m\u001b[38;5;124mpc_missing\u001b[39m\u001b[38;5;124m'\u001b[39m]\u001b[38;5;241m>\u001b[39m\u001b[38;5;241m0\u001b[39m]\n\u001b[0;32m---> 18\u001b[0m \u001b[43mmsno\u001b[49m\u001b[38;5;241m.\u001b[39mbar(data[missing_val_columns], figsize\u001b[38;5;241m=\u001b[39m(\u001b[38;5;241m16\u001b[39m, \u001b[38;5;241m4\u001b[39m))\n",
      "\u001b[0;31mNameError\u001b[0m: name 'msno' is not defined"
     ]
    }
   ],
   "source": [
    "for data in [country,\n",
    "             league,\n",
    "             match_df,\n",
    "             player,\n",
    "             player_attributes,\n",
    "             team,\n",
    "             team_attributes,\n",
    "             sqlite_sequence]:\n",
    "    missing_data = show_missing(data)\\\n",
    "        .sort_values('pc_missing', ascending=False, ignore_index = True)\n",
    "\n",
    "    index_full_data = list(missing_data[missing_data['missing']==0].index)\n",
    "\n",
    "    missing_data.drop(labels=index_full_data, axis='index', inplace=True)\n",
    "\n",
    "    missing_val_columns = missing_data['variable'][missing_data['pc_missing']>0]\n",
    "\n",
    "    msno.bar(data[missing_val_columns], figsize=(16, 4))"
   ]
  }
 ],
 "metadata": {
  "kernelspec": {
   "argv": [
    "/gnu/store/3lxr2xg3yscdb3979blgjg0h7xd1n9la-python-3.10.7/bin/python3",
    "-m",
    "ipykernel_launcher",
    "-f",
    "{connection_file}"
   ],
   "display_name": "Python 3 (ipykernel)",
   "env": null,
   "interrupt_mode": "signal",
   "language": "/gnu/store/3lxr2xg3yscdb3979blgjg0h7xd1n9la-python-3.10.7/bin/python3",
   "metadata": {
    "debugger": true
   },
   "name": "python3"
  },
  "name": "Analise_Exploratoria.ipynb"
 },
 "nbformat": 4,
 "nbformat_minor": 5
}
